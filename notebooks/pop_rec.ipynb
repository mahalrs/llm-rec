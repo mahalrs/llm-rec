{
 "cells": [
  {
   "cell_type": "code",
   "execution_count": 1,
   "id": "ed53781e-307d-4467-9794-bd46543b1f58",
   "metadata": {},
   "outputs": [
    {
     "name": "stdout",
     "output_type": "stream",
     "text": [
      "Requirement already satisfied: datatable in c:\\users\\shami\\anaconda3\\lib\\site-packages (1.1.0)\n"
     ]
    }
   ],
   "source": [
    "!pip install datatable"
   ]
  },
  {
   "cell_type": "code",
   "execution_count": 1,
   "id": "04f58db2-ea8d-453a-a706-d32d14fcf002",
   "metadata": {
    "tags": []
   },
   "outputs": [
    {
     "data": {
      "text/html": [
       "<style type='text/css'>\n",
       ".datatable table.frame { margin-bottom: 0; }\n",
       ".datatable table.frame thead { border-bottom: none; }\n",
       ".datatable table.frame tr.coltypes td {  color: #FFFFFF;  line-height: 6px;  padding: 0 0.5em;}\n",
       ".datatable .bool    { background: #DDDD99; }\n",
       ".datatable .object  { background: #565656; }\n",
       ".datatable .int     { background: #5D9E5D; }\n",
       ".datatable .float   { background: #4040CC; }\n",
       ".datatable .str     { background: #CC4040; }\n",
       ".datatable .time    { background: #40CC40; }\n",
       ".datatable .row_index {  background: var(--jp-border-color3);  border-right: 1px solid var(--jp-border-color0);  color: var(--jp-ui-font-color3);  font-size: 9px;}\n",
       ".datatable .frame tbody td { text-align: left; }\n",
       ".datatable .frame tr.coltypes .row_index {  background: var(--jp-border-color0);}\n",
       ".datatable th:nth-child(2) { padding-left: 12px; }\n",
       ".datatable .hellipsis {  color: var(--jp-cell-editor-border-color);}\n",
       ".datatable .vellipsis {  background: var(--jp-layout-color0);  color: var(--jp-cell-editor-border-color);}\n",
       ".datatable .na {  color: var(--jp-cell-editor-border-color);  font-size: 80%;}\n",
       ".datatable .sp {  opacity: 0.25;}\n",
       ".datatable .footer { font-size: 9px; }\n",
       ".datatable .frame_dimensions {  background: var(--jp-border-color3);  border-top: 1px solid var(--jp-border-color0);  color: var(--jp-ui-font-color3);  display: inline-block;  opacity: 0.6;  padding: 1px 10px 1px 5px;}\n",
       ".datatable .frame thead tr.colnames {  background-image: url('data:image/png;base64,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');  background-repeat: repeat-x;  background-size: 14px;  height: 28px;}\n",
       "</style>\n"
      ],
      "text/plain": [
       "<IPython.core.display.HTML object>"
      ]
     },
     "metadata": {},
     "output_type": "display_data"
    }
   ],
   "source": [
    "import datatable as dt"
   ]
  },
  {
   "cell_type": "code",
   "execution_count": 2,
   "id": "1e23c6fe-9153-4fbd-9f80-d4a791b366c5",
   "metadata": {
    "tags": []
   },
   "outputs": [
    {
     "name": "stdout",
     "output_type": "stream",
     "text": [
      "Train size: (31788324, 5)\n"
     ]
    }
   ],
   "source": [
    "data = dt.fread(\"../data/transactions_train.csv\")\n",
    "\n",
    "print(\"Train size:\", data.shape)\n"
   ]
  },
  {
   "cell_type": "code",
   "execution_count": 3,
   "id": "2ee97adb-75bb-4dc9-92fe-09eb772ae560",
   "metadata": {
    "tags": []
   },
   "outputs": [
    {
     "name": "stdout",
     "output_type": "stream",
     "text": [
      "   | t_dat       customer_id                                                       article_id      price  sales_channel_id\n",
      "   | date32      str32                                                                  int32    float64             int32\n",
      "-- + ----------  ----------------------------------------------------------------  ----------  ---------  ----------------\n",
      " 0 | 2018-09-20  000058a12d5b43e67d225668fa1f8d618c13dc232df0cad8ffe7ad4a1091e318   663713001  0.0508305                 2\n",
      "[1 row x 5 columns]\n",
      "\n",
      "   | t_dat       customer_id                                                       article_id      price  sales_channel_id\n",
      "   | date32      str32                                                                  int32    float64             int32\n",
      "-- + ----------  ----------------------------------------------------------------  ----------  ---------  ----------------\n",
      " 0 | 2020-09-22  fffef3b6b73545df065b521e19f64bf6fe93bfd450ab20e02ce5d1e58a8f700b   898573003  0.0338814                 2\n",
      "[1 row x 5 columns]\n",
      "\n"
     ]
    }
   ],
   "source": [
    "print(data[0, :])\n",
    "print(data[31788323, :])"
   ]
  },
  {
   "cell_type": "code",
   "execution_count": 4,
   "id": "8328f17b-7093-4143-9521-be418337bc35",
   "metadata": {
    "tags": []
   },
   "outputs": [
    {
     "name": "stdout",
     "output_type": "stream",
     "text": [
      "   | article_id  count\n",
      "   |      int32  int64\n",
      "-- + ----------  -----\n",
      " 0 |  108775015  10841\n",
      " 1 |  108775044   7250\n",
      " 2 |  108775051    215\n",
      " 3 |  110065001   1044\n",
      " 4 |  110065002    539\n",
      " 5 |  110065011   1090\n",
      " 6 |  111565001   4911\n",
      " 7 |  111565003     46\n",
      " 8 |  111586001  14191\n",
      " 9 |  111593001  13888\n",
      "[10 rows x 2 columns]\n",
      "\n"
     ]
    }
   ],
   "source": [
    "frequency = data[:, dt.count(), dt.by(dt.f.article_id)]\n",
    "\n",
    "# Printing the head of the frequency frame\n",
    "print(frequency.head())"
   ]
  },
  {
   "cell_type": "code",
   "execution_count": 5,
   "id": "38f66fa7-f0af-4e5f-abcb-2715bd484c59",
   "metadata": {
    "tags": []
   },
   "outputs": [
    {
     "name": "stdout",
     "output_type": "stream",
     "text": [
      "   | article_id  count\n",
      "   |      int32  int64\n",
      "-- + ----------  -----\n",
      " 0 |  706016001  50287\n",
      " 1 |  706016002  35043\n",
      " 2 |  372860001  31718\n",
      " 3 |  610776002  30199\n",
      " 4 |  759871002  26329\n",
      " 5 |  464297007  25025\n",
      " 6 |  372860002  24458\n",
      " 7 |  610776001  22451\n",
      " 8 |  399223001  22236\n",
      " 9 |  706016003  21241\n",
      "[10 rows x 2 columns]\n",
      "\n"
     ]
    }
   ],
   "source": [
    "frequency = frequency[:, :, dt.sort(-dt.f.count)]\n",
    "\n",
    "# Select the top 'n' rows\n",
    "n = 10  # Replace with the number of top elements you want\n",
    "top_n_frequency = frequency[:n, :]\n",
    "\n",
    "# Print the result\n",
    "print(top_n_frequency)"
   ]
  },
  {
   "cell_type": "code",
   "execution_count": 6,
   "id": "78a428d3-e51d-42a1-a88c-a4d6597aba13",
   "metadata": {
    "tags": []
   },
   "outputs": [],
   "source": [
    "df = data[:, :-2]"
   ]
  },
  {
   "cell_type": "code",
   "execution_count": 7,
   "id": "13a82147-d361-4e07-bf61-82b8f668ca59",
   "metadata": {
    "tags": []
   },
   "outputs": [
    {
     "name": "stdout",
     "output_type": "stream",
     "text": [
      "   | t_dat       customer_id                                                       article_id\n",
      "   | date32      str32                                                                  int32\n",
      "-- + ----------  ----------------------------------------------------------------  ----------\n",
      " 0 | 2018-09-20  000058a12d5b43e67d225668fa1f8d618c13dc232df0cad8ffe7ad4a1091e318   663713001\n",
      " 1 | 2018-09-20  000058a12d5b43e67d225668fa1f8d618c13dc232df0cad8ffe7ad4a1091e318   541518023\n",
      " 2 | 2018-09-20  00007d2de826758b65a93dd24ce629ed66842531df6699338c5570910a014cc2   505221004\n",
      " 3 | 2018-09-20  00007d2de826758b65a93dd24ce629ed66842531df6699338c5570910a014cc2   685687003\n",
      " 4 | 2018-09-20  00007d2de826758b65a93dd24ce629ed66842531df6699338c5570910a014cc2   685687004\n",
      " 5 | 2018-09-20  00007d2de826758b65a93dd24ce629ed66842531df6699338c5570910a014cc2   685687001\n",
      " 6 | 2018-09-20  00007d2de826758b65a93dd24ce629ed66842531df6699338c5570910a014cc2   505221001\n",
      " 7 | 2018-09-20  00083cda041544b2fbb0e0d2905ad17da7cf1007526fb4c73235dccbbc132280   688873012\n",
      " 8 | 2018-09-20  00083cda041544b2fbb0e0d2905ad17da7cf1007526fb4c73235dccbbc132280   501323011\n",
      " 9 | 2018-09-20  00083cda041544b2fbb0e0d2905ad17da7cf1007526fb4c73235dccbbc132280   598859003\n",
      "[10 rows x 3 columns]\n",
      "\n"
     ]
    }
   ],
   "source": [
    "print(df.head())"
   ]
  },
  {
   "cell_type": "code",
   "execution_count": 8,
   "id": "f295f2a3-9de0-4388-9e62-3b37d8d6a601",
   "metadata": {
    "tags": []
   },
   "outputs": [
    {
     "ename": "TypeError",
     "evalue": "int() argument must be a string, a bytes-like object or a real number, not 'datetime.date'",
     "output_type": "error",
     "traceback": [
      "\u001b[1;31m---------------------------------------------------------------------------\u001b[0m",
      "\u001b[1;31mTypeError\u001b[0m                                 Traceback (most recent call last)",
      "Cell \u001b[1;32mIn[8], line 7\u001b[0m\n\u001b[0;32m      3\u001b[0m \u001b[38;5;66;03m# Assuming 'df' is your datatable Frame with 't_dat' in date32 format and 'customer_id'\u001b[39;00m\n\u001b[0;32m      4\u001b[0m \n\u001b[0;32m      5\u001b[0m \u001b[38;5;66;03m# Convert 't_dat' (date32 format) to week numbers\u001b[39;00m\n\u001b[0;32m      6\u001b[0m base_date \u001b[38;5;241m=\u001b[39m datetime(\u001b[38;5;241m1970\u001b[39m, \u001b[38;5;241m1\u001b[39m, \u001b[38;5;241m1\u001b[39m)\u001b[38;5;241m.\u001b[39mdate()\n\u001b[1;32m----> 7\u001b[0m df[\u001b[38;5;124m'\u001b[39m\u001b[38;5;124mweek_number\u001b[39m\u001b[38;5;124m'\u001b[39m] \u001b[38;5;241m=\u001b[39m dt\u001b[38;5;241m.\u001b[39mFrame([(base_date \u001b[38;5;241m+\u001b[39m timedelta(days\u001b[38;5;241m=\u001b[39m\u001b[38;5;28mint\u001b[39m(day)))\u001b[38;5;241m.\u001b[39misocalendar()[\u001b[38;5;241m1\u001b[39m] \n\u001b[0;32m      8\u001b[0m                               \u001b[38;5;28;01mfor\u001b[39;00m day \u001b[38;5;129;01min\u001b[39;00m df[\u001b[38;5;124m'\u001b[39m\u001b[38;5;124mt_dat\u001b[39m\u001b[38;5;124m'\u001b[39m]\u001b[38;5;241m.\u001b[39mto_list()[\u001b[38;5;241m0\u001b[39m]])\n\u001b[0;32m     10\u001b[0m \u001b[38;5;66;03m# Group by customer_id and week_number, then count the purchases\u001b[39;00m\n\u001b[0;32m     11\u001b[0m weekly_purchases \u001b[38;5;241m=\u001b[39m df[:, dt\u001b[38;5;241m.\u001b[39mcount(), by(\u001b[38;5;124m'\u001b[39m\u001b[38;5;124mcustomer_id\u001b[39m\u001b[38;5;124m'\u001b[39m, \u001b[38;5;124m'\u001b[39m\u001b[38;5;124mweek_number\u001b[39m\u001b[38;5;124m'\u001b[39m)]\n",
      "Cell \u001b[1;32mIn[8], line 7\u001b[0m, in \u001b[0;36m<listcomp>\u001b[1;34m(.0)\u001b[0m\n\u001b[0;32m      3\u001b[0m \u001b[38;5;66;03m# Assuming 'df' is your datatable Frame with 't_dat' in date32 format and 'customer_id'\u001b[39;00m\n\u001b[0;32m      4\u001b[0m \n\u001b[0;32m      5\u001b[0m \u001b[38;5;66;03m# Convert 't_dat' (date32 format) to week numbers\u001b[39;00m\n\u001b[0;32m      6\u001b[0m base_date \u001b[38;5;241m=\u001b[39m datetime(\u001b[38;5;241m1970\u001b[39m, \u001b[38;5;241m1\u001b[39m, \u001b[38;5;241m1\u001b[39m)\u001b[38;5;241m.\u001b[39mdate()\n\u001b[1;32m----> 7\u001b[0m df[\u001b[38;5;124m'\u001b[39m\u001b[38;5;124mweek_number\u001b[39m\u001b[38;5;124m'\u001b[39m] \u001b[38;5;241m=\u001b[39m dt\u001b[38;5;241m.\u001b[39mFrame([(base_date \u001b[38;5;241m+\u001b[39m timedelta(days\u001b[38;5;241m=\u001b[39m\u001b[38;5;28mint\u001b[39m(day)))\u001b[38;5;241m.\u001b[39misocalendar()[\u001b[38;5;241m1\u001b[39m] \n\u001b[0;32m      8\u001b[0m                               \u001b[38;5;28;01mfor\u001b[39;00m day \u001b[38;5;129;01min\u001b[39;00m df[\u001b[38;5;124m'\u001b[39m\u001b[38;5;124mt_dat\u001b[39m\u001b[38;5;124m'\u001b[39m]\u001b[38;5;241m.\u001b[39mto_list()[\u001b[38;5;241m0\u001b[39m]])\n\u001b[0;32m     10\u001b[0m \u001b[38;5;66;03m# Group by customer_id and week_number, then count the purchases\u001b[39;00m\n\u001b[0;32m     11\u001b[0m weekly_purchases \u001b[38;5;241m=\u001b[39m df[:, dt\u001b[38;5;241m.\u001b[39mcount(), by(\u001b[38;5;124m'\u001b[39m\u001b[38;5;124mcustomer_id\u001b[39m\u001b[38;5;124m'\u001b[39m, \u001b[38;5;124m'\u001b[39m\u001b[38;5;124mweek_number\u001b[39m\u001b[38;5;124m'\u001b[39m)]\n",
      "\u001b[1;31mTypeError\u001b[0m: int() argument must be a string, a bytes-like object or a real number, not 'datetime.date'"
     ]
    }
   ],
   "source": [
    "from datetime import datetime, timedelta\n",
    "\n",
    "# Assuming 'df' is your datatable Frame with 't_dat' in date32 format and 'customer_id'\n",
    "\n",
    "# Convert 't_dat' (date32 format) to week numbers\n",
    "base_date = datetime(1970, 1, 1).date()\n",
    "df['week_number'] = dt.Frame([(base_date + timedelta(days=int(day))).isocalendar()[1] \n",
    "                              for day in df['t_dat'].to_list()[0]])\n",
    "\n",
    "# Group by customer_id and week_number, then count the purchases\n",
    "weekly_purchases = df[:, dt.count(), by('customer_id', 'week_number')]\n",
    "\n",
    "# Calculate the average number of purchases per week for each customer\n",
    "average_purchases = weekly_purchases[:, dt.mean(dt.f.count), by('customer_id')]\n",
    "\n",
    "# Print the head of the result\n",
    "print(average_purchases.head())"
   ]
  },
  {
   "cell_type": "code",
   "execution_count": 9,
   "id": "7cd279cf-ed3a-4b10-9acb-73133f2e0430",
   "metadata": {
    "tags": []
   },
   "outputs": [
    {
     "name": "stdout",
     "output_type": "stream",
     "text": [
      "   | customer_id                                                          count\n",
      "   | str32                                                              float64\n",
      "-- + ----------------------------------------------------------------  --------\n",
      " 0 | 00000dbacae5abe5e23885899a1fa44253a17956c6d1c3d25f88aa139fdfc657   2.1    \n",
      " 1 | 0000423b00ade91418cceaf3b26c6af3dd342b51fd051eec9c12fb36984420fa   4.52632\n",
      " 2 | 000058a12d5b43e67d225668fa1f8d618c13dc232df0cad8ffe7ad4a1091e318   2.57143\n",
      " 3 | 00005ca1c9ed5f5146b52ac8639a40ca9d57aeff4d1bd2c5feb1ca5dff07c43e   2      \n",
      " 4 | 00006413d8573cd20ed7128e53b7b13819fe5cfc2d801fe7fc0f26dd8d65a85a   2.16667\n",
      " 5 | 000064249685c11552da43ef22a5030f35a147f723d5b02ddd9fd22452b1f5a6   3      \n",
      " 6 | 0000757967448a6cb83efb3ea7a3fb9d418ac7adf2379d8cd0c725276a467a2a   2      \n",
      " 7 | 00007d2de826758b65a93dd24ce629ed66842531df6699338c5570910a014cc2  10      \n",
      " 8 | 00007e8d4e54114b5b2a9b51586325a8d0fa74ea23ef77334eaec4ffccd7ebcc   2      \n",
      " 9 | 00008469a21b50b3d147c97135e25b4201a8c58997f78782a0cc706645e14493   4      \n",
      "[10 rows x 2 columns]\n",
      "\n"
     ]
    }
   ],
   "source": [
    "# Assuming 'df' is your datatable Frame with 't_dat' as datetime.date objects and 'customer_id'\n",
    "\n",
    "# Convert 't_dat' to a combined year-week identifier\n",
    "df['year_week'] = dt.Frame([f\"{date.year}-{date.isocalendar()[1]:02d}\" for date in df['t_dat'].to_list()[0]])\n",
    "\n",
    "# Group by customer_id and year_week, then count the purchases\n",
    "weekly_purchases = df[:, dt.count(), dt.by('customer_id', 'year_week')]\n",
    "\n",
    "# Calculate the average number of purchases per week for each customer\n",
    "average_purchases = weekly_purchases[:, dt.mean(dt.f.count), dt.by('customer_id')]\n",
    "\n",
    "# Print the head of the result\n",
    "print(average_purchases.head())\n"
   ]
  },
  {
   "cell_type": "code",
   "execution_count": 10,
   "id": "c8ea9237-fd43-4238-ae7f-f7d0f6c1a36d",
   "metadata": {
    "tags": []
   },
   "outputs": [],
   "source": [
    "average_purchases.to_csv(\"avg_customer_purchases.csv\")"
   ]
  },
  {
   "cell_type": "code",
   "execution_count": 11,
   "id": "ce86924e-3efb-4a09-bdad-23612bffd9c1",
   "metadata": {
    "tags": []
   },
   "outputs": [
    {
     "name": "stdout",
     "output_type": "stream",
     "text": [
      "Train size: (1362281, 2)\n"
     ]
    }
   ],
   "source": [
    "data = dt.fread(\"avg_customer_purchases.csv\")\n",
    "\n",
    "print(\"Train size:\", data.shape)\n"
   ]
  },
  {
   "cell_type": "code",
   "execution_count": 12,
   "id": "5573af20-9a41-438e-b46a-4f8df090cc40",
   "metadata": {
    "tags": []
   },
   "outputs": [
    {
     "name": "stdout",
     "output_type": "stream",
     "text": [
      "   | customer_id                                                         count\n",
      "   | str32                                                             float64\n",
      "-- + ----------------------------------------------------------------  -------\n",
      " 0 | 00000dbacae5abe5e23885899a1fa44253a17956c6d1c3d25f88aa139fdfc657      2.1\n",
      "[1 row x 2 columns]\n",
      "\n"
     ]
    }
   ],
   "source": [
    "print(data[0,:])"
   ]
  }
 ],
 "metadata": {
  "kernelspec": {
   "display_name": "Python 3 (ipykernel)",
   "language": "python",
   "name": "python3"
  },
  "language_info": {
   "codemirror_mode": {
    "name": "ipython",
    "version": 3
   },
   "file_extension": ".py",
   "mimetype": "text/x-python",
   "name": "python",
   "nbconvert_exporter": "python",
   "pygments_lexer": "ipython3",
   "version": "3.11.4"
  }
 },
 "nbformat": 4,
 "nbformat_minor": 5
}
