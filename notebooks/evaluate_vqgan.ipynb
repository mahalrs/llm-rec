{
 "cells": [
  {
   "cell_type": "markdown",
   "metadata": {},
   "source": [
    "## Evaluate VQGAN\n"
   ]
  },
  {
   "cell_type": "code",
   "execution_count": null,
   "metadata": {
    "tags": []
   },
   "outputs": [],
   "source": [
    "import sys\n",
    "\n",
    "sys.path.append(\"../src\")"
   ]
  },
  {
   "cell_type": "code",
   "execution_count": null,
   "metadata": {
    "tags": []
   },
   "outputs": [],
   "source": [
    "import torch\n",
    "import lightning.pytorch as pl\n",
    "from torchvision import transforms\n",
    "from torch.utils.data import DataLoader\n",
    "\n",
    "from vqgan.model import VQModel\n",
    "from dataset import HMDatasetImages"
   ]
  },
  {
   "cell_type": "code",
   "execution_count": null,
   "metadata": {},
   "outputs": [],
   "source": [
    "import matplotlib.pyplot as plt\n",
    "import numpy as np\n",
    "import torchvision\n",
    "\n",
    "\n",
    "def imshow(img, title=None):\n",
    "    img = img / 2 + 0.5  # unnormalize\n",
    "    npimg = img.numpy()\n",
    "    img = np.transpose(npimg, (1, 2, 0))\n",
    "    plt.imshow(img)\n",
    "    if title is not None:\n",
    "        plt.title(title)\n",
    "    plt.axis(\"off\")\n",
    "\n",
    "\n",
    "def visualize_model_batch(model, batch):\n",
    "    # disable grads + batchnorm + dropout\n",
    "    torch.set_grad_enabled(False)\n",
    "    model.eval()\n",
    "    # Encoded image tokens\n",
    "    quant_states, loss, info = model.encode(batch)\n",
    "    # Decode image tokens, i.e. reconstruct image from image tokens\n",
    "    rec = model.decode(quant_states)\n",
    "    # Display\n",
    "    imshow(torchvision.utils.make_grid(batch), \"Original\")\n",
    "    plt.show()\n",
    "    imshow(torchvision.utils.make_grid(rec.detach()), \"Reconstructed\")\n",
    "    plt.show()\n",
    "    # enable grads + batchnorm + dropout\n",
    "    torch.set_grad_enabled(True)\n",
    "    model.train()\n",
    "    return rec.detach()"
   ]
  },
  {
   "cell_type": "code",
   "execution_count": null,
   "metadata": {
    "tags": []
   },
   "outputs": [],
   "source": [
    "transform = transforms.Compose(\n",
    "    [\n",
    "        transforms.Resize((256, 256)),\n",
    "        transforms.ToTensor(),\n",
    "        transforms.Normalize(mean=[0.5, 0.5, 0.5], std=[0.5, 0.5, 0.5]),\n",
    "    ]\n",
    ")"
   ]
  },
  {
   "cell_type": "code",
   "execution_count": null,
   "metadata": {
    "tags": []
   },
   "outputs": [],
   "source": [
    "test_set = HMDatasetImages(\"./data\", \"test\", transform)\n",
    "test_loader = DataLoader(\n",
    "    test_set, batch_size=4, shuffle=False, num_workers=0, pin_memory=True\n",
    ")"
   ]
  },
  {
   "cell_type": "code",
   "execution_count": null,
   "metadata": {},
   "outputs": [],
   "source": [
    "test_iter = iter(test_loader)\n",
    "batch1 = next(test_iter)\n",
    "batch2 = next(test_iter)"
   ]
  },
  {
   "cell_type": "code",
   "execution_count": null,
   "metadata": {},
   "outputs": [],
   "source": [
    "hparams = {\n",
    "    \"n_embed\": 16384,\n",
    "    \"embed_dim\": 256,\n",
    "    \"learning_rate\": 4.5e-06,\n",
    "    \"ddconfig\": {\n",
    "        \"double_z\": False,\n",
    "        \"z_channels\": 256,\n",
    "        \"resolution\": 256,\n",
    "        \"in_channels\": 3,\n",
    "        \"out_ch\": 3,\n",
    "        \"ch\": 128,\n",
    "        \"ch_mult\": [1, 1, 2, 2, 4],\n",
    "        \"num_res_blocks\": 2,\n",
    "        \"attn_resolutions\": [16],\n",
    "        \"dropout\": 0.0,\n",
    "    },\n",
    "    \"lossconfig\": {\n",
    "        \"disc_conditional\": False,\n",
    "        \"disc_in_channels\": 3,\n",
    "        \"disc_start\": 0,\n",
    "        \"disc_weight\": 0.75,\n",
    "        \"disc_num_layers\": 2,\n",
    "        \"codebook_weight\": 1.0,\n",
    "    },\n",
    "}"
   ]
  },
  {
   "cell_type": "markdown",
   "metadata": {},
   "source": [
    "### Pre-trained VQGAN Model\n",
    "\n",
    "Pre-trained checkpoint trained on ImageNet for 12 epochs (~30k steps)\n"
   ]
  },
  {
   "cell_type": "code",
   "execution_count": null,
   "metadata": {
    "tags": []
   },
   "outputs": [],
   "source": [
    "model = VQModel.load_from_checkpoint(\"./pretrained/vqgan.ckpt\", **hparams)\n",
    "model.init_lpips_from_pretrained(\"./pretrained/vgg.pth\")\n",
    "model = model.to(\"cpu\")"
   ]
  },
  {
   "cell_type": "code",
   "execution_count": null,
   "metadata": {},
   "outputs": [],
   "source": [
    "rec_ori_b1 = visualize_model_batch(model, batch1)\n",
    "rec_ori_b2 = visualize_model_batch(model, batch2)"
   ]
  },
  {
   "cell_type": "markdown",
   "metadata": {},
   "source": [
    "### Fine-tuned VQGAN\n"
   ]
  },
  {
   "cell_type": "code",
   "execution_count": null,
   "metadata": {},
   "outputs": [],
   "source": [
    "model = VQModel.load_from_checkpoint(\"./checkpoints/last.ckpt\", **hparams)\n",
    "model.init_lpips_from_pretrained(\"./pretrained/vgg.pth\")\n",
    "model = model.to(\"cpu\")"
   ]
  },
  {
   "cell_type": "code",
   "execution_count": null,
   "metadata": {},
   "outputs": [],
   "source": [
    "rec_tuned_b1 = visualize_model_batch(model, batch1)\n",
    "rec_tuned_b2 = visualize_model_batch(model, batch2)"
   ]
  },
  {
   "cell_type": "markdown",
   "metadata": {
    "tags": []
   },
   "source": [
    "### Evaluate\n",
    "\n",
    "- Peak Signal-to-Noise Ratio (PSNR)\n",
    "- Structural Similarity Index (SSIM)\n",
    "- Learned Perceptual Image Patch Similarity (LPIPS)\n"
   ]
  },
  {
   "cell_type": "code",
   "execution_count": null,
   "metadata": {},
   "outputs": [],
   "source": [
    "from torchmetrics import PeakSignalNoiseRatio, StructuralSimilarityIndexMeasure\n",
    "from torchmetrics.image.lpip import LearnedPerceptualImagePatchSimilarity\n",
    "import torchvision.transforms.functional as TF"
   ]
  },
  {
   "cell_type": "code",
   "execution_count": null,
   "metadata": {},
   "outputs": [],
   "source": [
    "psnr = PeakSignalNoiseRatio()\n",
    "ssim = StructuralSimilarityIndexMeasure(data_range=1.0)\n",
    "lpips = LearnedPerceptualImagePatchSimilarity(net_type=\"vgg\")"
   ]
  },
  {
   "cell_type": "code",
   "execution_count": null,
   "metadata": {},
   "outputs": [],
   "source": [
    "psnr_b1 = psnr(rec_ori_b1, batch1)\n",
    "psnr_b2 = psnr(rec_ori_b2, batch2)\n",
    "\n",
    "print(\"Higher PSNR is better\")\n",
    "\n",
    "print(\"\\nPre-trained model PSNR:\")\n",
    "print(\"  Batch 1:\", psnr_b1)\n",
    "print(\"  Batch 2:\", psnr_b2)\n",
    "\n",
    "psnr_b1 = psnr(rec_tuned_b1, batch1)\n",
    "psnr_b2 = psnr(rec_tuned_b2, batch2)\n",
    "\n",
    "print(\"\\nFine-tuned model PSNR:\")\n",
    "print(\"  Batch 1:\", psnr_b1)\n",
    "print(\"  Batch 2:\", psnr_b2)"
   ]
  },
  {
   "cell_type": "code",
   "execution_count": null,
   "metadata": {},
   "outputs": [],
   "source": [
    "ssim_b1 = ssim(rec_ori_b1, batch1)\n",
    "ssim_b2 = ssim(rec_ori_b2, batch2)\n",
    "\n",
    "print(\"Higher SSIM is better\")\n",
    "\n",
    "print(\"\\nPre-trained model SSIM:\")\n",
    "print(\"  Batch 1:\", ssim_b1)\n",
    "print(\"  Batch 2:\", ssim_b2)\n",
    "\n",
    "ssim_b1 = ssim(rec_tuned_b1, batch1)\n",
    "ssim_b2 = ssim(rec_tuned_b2, batch2)\n",
    "\n",
    "print(\"\\nFine-tuned model SSIM:\")\n",
    "print(\"  Batch 1:\", ssim_b1)\n",
    "print(\"  Batch 2:\", ssim_b2)"
   ]
  },
  {
   "cell_type": "code",
   "execution_count": null,
   "metadata": {},
   "outputs": [],
   "source": [
    "def normalize_batch(batch):\n",
    "    batch = batch / 2 + 0.5  # unnormalize\n",
    "    batch = (batch / 255.0) * 2 - 1\n",
    "    return torch.clamp(batch, min=-1.0, max=1.0)\n",
    "\n",
    "\n",
    "lpips_b1 = lpips(normalize_batch(rec_ori_b1), normalize_batch(batch1))\n",
    "lpips_b2 = lpips(normalize_batch(rec_ori_b2), normalize_batch(batch2))\n",
    "\n",
    "print(\"Lower LPIPS is better\")\n",
    "\n",
    "print(\"\\nPre-trained model LPIPS:\")\n",
    "print(\"  Batch 1:\", lpips_b1.item())\n",
    "print(\"  Batch 2:\", lpips_b2.item())\n",
    "\n",
    "lpips_b1 = lpips(normalize_batch(rec_tuned_b1), normalize_batch(batch1))\n",
    "lpips_b2 = lpips(normalize_batch(rec_tuned_b2), normalize_batch(batch2))\n",
    "\n",
    "print(\"\\nFine-tuned model LPIPS:\")\n",
    "print(\"  Batch 1:\", lpips_b1.item())\n",
    "print(\"  Batch 2:\", lpips_b2.item())"
   ]
  },
  {
   "cell_type": "code",
   "execution_count": null,
   "metadata": {},
   "outputs": [],
   "source": []
  }
 ],
 "metadata": {
  "environment": {
   "kernel": "python3",
   "name": "pytorch-gpu.1-13.m107",
   "type": "gcloud",
   "uri": "gcr.io/deeplearning-platform-release/pytorch-gpu.1-13:m107"
  },
  "kernelspec": {
   "display_name": "Python 3",
   "language": "python",
   "name": "python3"
  },
  "language_info": {
   "codemirror_mode": {
    "name": "ipython",
    "version": 3
   },
   "file_extension": ".py",
   "mimetype": "text/x-python",
   "name": "python",
   "nbconvert_exporter": "python",
   "pygments_lexer": "ipython3",
   "version": "3.7.12"
  }
 },
 "nbformat": 4,
 "nbformat_minor": 4
}
