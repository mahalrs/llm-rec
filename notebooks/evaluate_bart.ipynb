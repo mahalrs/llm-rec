{
 "cells": [
  {
   "cell_type": "code",
   "execution_count": null,
   "id": "b2f4cdff-bac7-4f0b-ac4b-473b56e9d689",
   "metadata": {
    "tags": []
   },
   "outputs": [],
   "source": [
    "\n",
    "import sys\n",
    "\n",
    "sys.path.append(\"../src\")"
   ]
  },
  {
   "cell_type": "code",
   "execution_count": null,
   "id": "3494da70-4236-40bd-87e8-c9a586463f67",
   "metadata": {
    "tags": []
   },
   "outputs": [],
   "source": [
    "\n",
    "from statistics import mean\n",
    "\n",
    "import evaluate\n",
    "import torch\n",
    "from torch.utils.data import DataLoader\n",
    "from tqdm import tqdm\n",
    "from transformers import AutoModelForSeq2SeqLM, AutoTokenizer\n",
    "\n",
    "from dataset import HMDataset"
   ]
  },
  {
   "cell_type": "code",
   "execution_count": null,
   "id": "59a0aa6a-f84c-4782-8472-0e8f8b25cfa8",
   "metadata": {
    "tags": []
   },
   "outputs": [],
   "source": [
    "device = torch.device(\"cuda\" if torch.cuda.is_available() else \"cpu\")"
   ]
  },
  {
   "cell_type": "code",
   "execution_count": null,
   "id": "50524f7e-7a0d-474a-b8f5-a35f22ced2ea",
   "metadata": {
    "tags": []
   },
   "outputs": [],
   "source": [
    "model = AutoModelForSeq2SeqLM.from_pretrained(\"./logs/checkpoint-100\")\n",
    "model = model.to(device)\n",
    "\n",
    "tokenizer = AutoTokenizer.from_pretrained(\"facebook/bart-base\")"
   ]
  },
  {
   "cell_type": "code",
   "execution_count": null,
   "id": "3c90445c-3acc-4f16-9185-4883f54f3dbd",
   "metadata": {
    "tags": []
   },
   "outputs": [],
   "source": [
    "test_dataset = HMDataset(\"./data\", \"test\", tokenizer)\n",
    "test_loader = DataLoader(\n",
    "    test_dataset, batch_size=4, shuffle=False, num_workers=0, pin_memory=True\n",
    ")"
   ]
  },
  {
   "cell_type": "code",
   "execution_count": null,
   "id": "d2af43cb-f24d-48b6-a86e-6eb72efe31a2",
   "metadata": {
    "tags": []
   },
   "outputs": [],
   "source": [
    "metric = evaluate.load(\"bertscore\")\n",
    "\n",
    "for batch in tqdm(test_loader):\n",
    "    input_ids = batch[\"input_ids\"]\n",
    "    attention_mask = batch[\"attention_mask\"]\n",
    "    \n",
    "    input_ids = input_ids.to(device)\n",
    "    attention_mask = attention_mask.to(device)\n",
    "    \n",
    "    items = model.generate(\n",
    "            input_ids=input_ids,\n",
    "            attention_mask=attention_mask,\n",
    "            num_beams=3,\n",
    "            max_length=128,\n",
    "            early_stopping=True,\n",
    "            length_penalty=0.6,\n",
    "        )\n",
    "\n",
    "    decoded_items = tokenizer.batch_decode(\n",
    "            items,\n",
    "            skip_special_tokens=True,\n",
    "            clean_up_tokenization_spaces=True,\n",
    "            return_tensors=\"pt\",\n",
    "        )\n",
    "    \n",
    "    decoded_labels = tokenizer.batch_decode(\n",
    "            batch[\"labels\"],\n",
    "            skip_special_tokens=True,\n",
    "            clean_up_tokenization_spaces=True,\n",
    "            return_tensors=\"pt\",\n",
    "        )\n",
    "    \n",
    "    metric.add_batch(predictions=decoded_items, references=decoded_labels)\n",
    "    \n",
    "score = metric.compute(lang=\"en\")"
   ]
  },
  {
   "cell_type": "code",
   "execution_count": null,
   "id": "b63d3215-104c-40d9-9a3d-55a3c2199d8e",
   "metadata": {
    "tags": []
   },
   "outputs": [],
   "source": [
    "precision = round(mean(score[\"precision\"]), 4)\n",
    "recall = round(mean(score[\"recall\"]), 4)\n",
    "f1 = round(mean(score[\"f1\"]), 4)\n",
    "\n",
    "print(\"----------\")\n",
    "print(f\"  BERTScore: precision: {precision} recall: {recall} f1: {f1}\")\n",
    "print(\"----------\\n\\n\")"
   ]
  },
  {
   "cell_type": "code",
   "execution_count": null,
   "id": "16b0f2fe-2c3c-49a6-9792-b8b19fe84a45",
   "metadata": {},
   "outputs": [],
   "source": []
  }
 ],
 "metadata": {
  "environment": {
   "kernel": "python3",
   "name": ".m114",
   "type": "gcloud",
   "uri": "gcr.io/deeplearning-platform-release/:m114"
  },
  "kernelspec": {
   "display_name": "Python 3",
   "language": "python",
   "name": "python3"
  },
  "language_info": {
   "codemirror_mode": {
    "name": "ipython",
    "version": 3
   },
   "file_extension": ".py",
   "mimetype": "text/x-python",
   "name": "python",
   "nbconvert_exporter": "python",
   "pygments_lexer": "ipython3",
   "version": "3.10.13"
  }
 },
 "nbformat": 4,
 "nbformat_minor": 5
}
