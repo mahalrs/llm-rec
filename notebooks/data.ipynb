{
 "cells": [
  {
   "cell_type": "code",
   "execution_count": null,
   "id": "baeb2b83-9fda-426c-a458-834801faee8f",
   "metadata": {
    "tags": []
   },
   "outputs": [],
   "source": [
    "import os\n",
    "import pandas as pd"
   ]
  },
  {
   "cell_type": "code",
   "execution_count": null,
   "id": "25796241-8b96-4640-b042-cb2a8639fe2d",
   "metadata": {
    "tags": []
   },
   "outputs": [],
   "source": [
    "pd.set_option(\"display.max_columns\", None)"
   ]
  },
  {
   "cell_type": "code",
   "execution_count": null,
   "id": "1c9c57dc-417b-411c-b6a6-89f60e73a057",
   "metadata": {
    "tags": []
   },
   "outputs": [],
   "source": [
    "dataset_dir = \"./data\""
   ]
  },
  {
   "cell_type": "markdown",
   "id": "94f1858f-a908-456c-9552-942d87714f94",
   "metadata": {},
   "source": [
    "## Products / Items\n"
   ]
  },
  {
   "cell_type": "code",
   "execution_count": null,
   "id": "5f14f43d-9f99-4639-b4c0-68b27bd88c44",
   "metadata": {
    "tags": []
   },
   "outputs": [],
   "source": [
    "articles = pd.read_csv(os.path.join(dataset_dir, \"articles.csv\"))\n",
    "articles.head()"
   ]
  },
  {
   "cell_type": "code",
   "execution_count": null,
   "id": "81c58b11-bc1f-4d49-ade4-abae30d92bb5",
   "metadata": {
    "tags": []
   },
   "outputs": [],
   "source": [
    "articles.shape"
   ]
  },
  {
   "cell_type": "code",
   "execution_count": null,
   "id": "ab5d740c-4ae0-4ea9-a312-fe904b2e4cbe",
   "metadata": {
    "tags": []
   },
   "outputs": [],
   "source": [
    "articles.isna().sum()"
   ]
  },
  {
   "cell_type": "code",
   "execution_count": null,
   "id": "d86e73ab-f544-4cd5-8f02-4bb26cbbaaaf",
   "metadata": {
    "tags": []
   },
   "outputs": [],
   "source": [
    "articles[\"detail_desc\"].describe()"
   ]
  },
  {
   "cell_type": "code",
   "execution_count": null,
   "id": "655177a4-f90d-438b-86bb-00718b5a5354",
   "metadata": {
    "tags": []
   },
   "outputs": [],
   "source": [
    "articles[\"detail_desc\"].info()"
   ]
  },
  {
   "cell_type": "code",
   "execution_count": null,
   "id": "04a365f2-a8f2-4945-8185-41b0aa41c868",
   "metadata": {
    "tags": []
   },
   "outputs": [],
   "source": [
    "articles_dropna = articles.dropna()"
   ]
  },
  {
   "cell_type": "code",
   "execution_count": null,
   "id": "5ace2d6d-5f92-4614-a8da-2344f3eafa29",
   "metadata": {
    "tags": []
   },
   "outputs": [],
   "source": [
    "articles_dropna[\"detail_desc\"].apply(len).describe()"
   ]
  },
  {
   "cell_type": "code",
   "execution_count": null,
   "id": "33a545f7-3112-4b1d-9dba-cc6f1a369c29",
   "metadata": {
    "tags": []
   },
   "outputs": [],
   "source": [
    "articles_dropna[\"detail_desc\"].apply(lambda x: len(x.split())).describe()"
   ]
  },
  {
   "cell_type": "markdown",
   "id": "76cadf30-89f5-4458-bd78-88e6a190474c",
   "metadata": {},
   "source": [
    "## Customers\n"
   ]
  },
  {
   "cell_type": "code",
   "execution_count": null,
   "id": "93d15f4b-c58a-4a92-8455-5a70df1e8599",
   "metadata": {
    "tags": []
   },
   "outputs": [],
   "source": [
    "customers = pd.read_csv(os.path.join(dataset_dir, \"customers.csv\"))\n",
    "customers.head()"
   ]
  },
  {
   "cell_type": "code",
   "execution_count": null,
   "id": "1b7c1cdc-4858-4870-b40e-bb0185357680",
   "metadata": {
    "tags": []
   },
   "outputs": [],
   "source": [
    "customers.shape"
   ]
  },
  {
   "cell_type": "code",
   "execution_count": null,
   "id": "e0a24add-838a-47cc-8aa7-63a68d8852ef",
   "metadata": {
    "tags": []
   },
   "outputs": [],
   "source": [
    "customers.isna().sum() * 100 / len(customers)"
   ]
  },
  {
   "cell_type": "markdown",
   "id": "6835acc5-390f-4bfd-99e3-734652fbcad1",
   "metadata": {},
   "source": [
    "## Purchase History\n"
   ]
  },
  {
   "cell_type": "code",
   "execution_count": null,
   "id": "e1c28c84-b380-407d-8987-79b3d8422634",
   "metadata": {
    "tags": []
   },
   "outputs": [],
   "source": [
    "transactions = pd.read_csv(os.path.join(dataset_dir, \"transactions_train.csv\"))\n",
    "transactions.head()"
   ]
  },
  {
   "cell_type": "code",
   "execution_count": null,
   "id": "8ae8a235-a32f-4d90-9308-89b7938c3b16",
   "metadata": {
    "tags": []
   },
   "outputs": [],
   "source": [
    "transactions.shape"
   ]
  },
  {
   "cell_type": "code",
   "execution_count": null,
   "id": "c87376f3-fa34-4f23-811e-2e712ba9e417",
   "metadata": {
    "tags": []
   },
   "outputs": [],
   "source": [
    "transactions.isna().sum()"
   ]
  },
  {
   "cell_type": "code",
   "execution_count": null,
   "id": "73e5a72f-438d-4882-856d-270d3ea25c73",
   "metadata": {
    "tags": []
   },
   "outputs": [],
   "source": [
    "transactions.info()"
   ]
  },
  {
   "cell_type": "code",
   "execution_count": null,
   "id": "adc1b236-f9e6-4c9d-8688-f6eab7681f8c",
   "metadata": {},
   "outputs": [],
   "source": []
  }
 ],
 "metadata": {
  "environment": {
   "kernel": "python3",
   "name": ".m113",
   "type": "gcloud",
   "uri": "gcr.io/deeplearning-platform-release/:m113"
  },
  "kernelspec": {
   "display_name": "Python 3",
   "language": "python",
   "name": "python3"
  },
  "language_info": {
   "codemirror_mode": {
    "name": "ipython",
    "version": 3
   },
   "file_extension": ".py",
   "mimetype": "text/x-python",
   "name": "python",
   "nbconvert_exporter": "python",
   "pygments_lexer": "ipython3",
   "version": "3.10.13"
  }
 },
 "nbformat": 4,
 "nbformat_minor": 5
}
