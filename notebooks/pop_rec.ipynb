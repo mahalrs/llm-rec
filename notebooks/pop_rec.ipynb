{
 "cells": [
  {
   "cell_type": "code",
   "execution_count": 1,
   "id": "ed53781e-307d-4467-9794-bd46543b1f58",
   "metadata": {},
   "outputs": [
    {
     "name": "stdout",
     "output_type": "stream",
     "text": [
      "Requirement already satisfied: datatable in c:\\users\\shami\\anaconda3\\lib\\site-packages (1.1.0)\n"
     ]
    }
   ],
   "source": [
    "!pip install datatable"
   ]
  },
  {
   "cell_type": "code",
   "execution_count": 1,
   "id": "04f58db2-ea8d-453a-a706-d32d14fcf002",
   "metadata": {
    "tags": []
   },
   "outputs": [
    {
     "data": {
      "text/html": [
       "<style type='text/css'>\n",
       ".datatable table.frame { margin-bottom: 0; }\n",
       ".datatable table.frame thead { border-bottom: none; }\n",
       ".datatable table.frame tr.coltypes td {  color: #FFFFFF;  line-height: 6px;  padding: 0 0.5em;}\n",
       ".datatable .bool    { background: #DDDD99; }\n",
       ".datatable .object  { background: #565656; }\n",
       ".datatable .int     { background: #5D9E5D; }\n",
       ".datatable .float   { background: #4040CC; }\n",
       ".datatable .str     { background: #CC4040; }\n",
       ".datatable .time    { background: #40CC40; }\n",
       ".datatable .row_index {  background: var(--jp-border-color3);  border-right: 1px solid var(--jp-border-color0);  color: var(--jp-ui-font-color3);  font-size: 9px;}\n",
       ".datatable .frame tbody td { text-align: left; }\n",
       ".datatable .frame tr.coltypes .row_index {  background: var(--jp-border-color0);}\n",
       ".datatable th:nth-child(2) { padding-left: 12px; }\n",
       ".datatable .hellipsis {  color: var(--jp-cell-editor-border-color);}\n",
       ".datatable .vellipsis {  background: var(--jp-layout-color0);  color: var(--jp-cell-editor-border-color);}\n",
       ".datatable .na {  color: var(--jp-cell-editor-border-color);  font-size: 80%;}\n",
       ".datatable .sp {  opacity: 0.25;}\n",
       ".datatable .footer { font-size: 9px; }\n",
       ".datatable .frame_dimensions {  background: var(--jp-border-color3);  border-top: 1px solid var(--jp-border-color0);  color: var(--jp-ui-font-color3);  display: inline-block;  opacity: 0.6;  padding: 1px 10px 1px 5px;}\n",
       ".datatable .frame thead tr.colnames {  background-image: url('data:image/png;base64,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');  background-repeat: repeat-x;  background-size: 14px;  height: 28px;}\n",
       "</style>\n"
      ],
      "text/plain": [
       "<IPython.core.display.HTML object>"
      ]
     },
     "metadata": {},
     "output_type": "display_data"
    }
   ],
   "source": [
    "import datatable as dt"
   ]
  },
  {
   "cell_type": "code",
   "execution_count": 2,
   "id": "1e23c6fe-9153-4fbd-9f80-d4a791b366c5",
   "metadata": {
    "tags": []
   },
   "outputs": [
    {
     "name": "stdout",
     "output_type": "stream",
     "text": [
      "Dataset size: (31788324, 5)\n"
     ]
    }
   ],
   "source": [
    "data = dt.fread(\"../data/transactions_train.csv\")\n",
    "\n",
    "print(\"Dataset size:\", data.shape)\n"
   ]
  },
  {
   "cell_type": "code",
   "execution_count": 3,
   "id": "2ee97adb-75bb-4dc9-92fe-09eb772ae560",
   "metadata": {
    "tags": []
   },
   "outputs": [
    {
     "name": "stdout",
     "output_type": "stream",
     "text": [
      "   | t_dat       customer_id                                                       article_id      price  sales_channel_id\n",
      "   | date32      str32                                                                  int32    float64             int32\n",
      "-- + ----------  ----------------------------------------------------------------  ----------  ---------  ----------------\n",
      " 0 | 2018-09-20  000058a12d5b43e67d225668fa1f8d618c13dc232df0cad8ffe7ad4a1091e318   663713001  0.0508305                 2\n",
      "[1 row x 5 columns]\n",
      "\n"
     ]
    }
   ],
   "source": [
    "print(data[0, :])\n",
    "# print(data[31788323, :])"
   ]
  },
  {
   "cell_type": "code",
   "execution_count": 4,
   "metadata": {},
   "outputs": [
    {
     "name": "stdout",
     "output_type": "stream",
     "text": [
      "Last date in dataset = 2020-09-22\n",
      "One week before = 2020-09-15\n"
     ]
    }
   ],
   "source": [
    "from datetime import datetime, timedelta\n",
    "\n",
    "last_date = data[-1,'t_dat']\n",
    "print(\"Last date in dataset =\", last_date)\n",
    "\n",
    "# Calculate the date 7 days before\n",
    "date_before_7_days = last_date - timedelta(days=7)\n",
    "\n",
    "# Convert back to string if needed\n",
    "date_before_7_days_str = date_before_7_days.strftime(\"%Y-%m-%d\")\n",
    "\n",
    "print(\"One week before =\", date_before_7_days_str)\n",
    "\n"
   ]
  },
  {
   "cell_type": "code",
   "execution_count": 5,
   "metadata": {},
   "outputs": [
    {
     "name": "stdout",
     "output_type": "stream",
     "text": [
      "240311\n"
     ]
    }
   ],
   "source": [
    "from datatable import f\n",
    "\n",
    "test_data_size = -1\n",
    "\n",
    "for i in range(data.nrows):\n",
    "    date = data[-1 * (i+1) , 0]\n",
    "    # print(date)\n",
    "    if not (date > date_before_7_days):\n",
    "        test_data_size = i\n",
    "        break\n",
    "\n",
    "print(test_data_size)\n"
   ]
  },
  {
   "cell_type": "code",
   "execution_count": 6,
   "metadata": {},
   "outputs": [
    {
     "name": "stdout",
     "output_type": "stream",
     "text": [
      "   | t_dat       customer_id                                                       article_id      price  sales_channel_id\n",
      "   | date32      str32                                                                  int32    float64             int32\n",
      "-- + ----------  ----------------------------------------------------------------  ----------  ---------  ----------------\n",
      " 0 | 2018-09-20  000058a12d5b43e67d225668fa1f8d618c13dc232df0cad8ffe7ad4a1091e318   663713001  0.0508305                 2\n",
      " 1 | 2018-09-20  000058a12d5b43e67d225668fa1f8d618c13dc232df0cad8ffe7ad4a1091e318   541518023  0.0304915                 2\n",
      " 2 | 2018-09-20  00007d2de826758b65a93dd24ce629ed66842531df6699338c5570910a014cc2   505221004  0.0152373                 2\n",
      " 3 | 2018-09-20  00007d2de826758b65a93dd24ce629ed66842531df6699338c5570910a014cc2   685687003  0.0169322                 2\n",
      " 4 | 2018-09-20  00007d2de826758b65a93dd24ce629ed66842531df6699338c5570910a014cc2   685687004  0.0169322                 2\n",
      " 5 | 2018-09-20  00007d2de826758b65a93dd24ce629ed66842531df6699338c5570910a014cc2   685687001  0.0169322                 2\n",
      " 6 | 2018-09-20  00007d2de826758b65a93dd24ce629ed66842531df6699338c5570910a014cc2   505221001  0.020322                  2\n",
      " 7 | 2018-09-20  00083cda041544b2fbb0e0d2905ad17da7cf1007526fb4c73235dccbbc132280   688873012  0.0304915                 1\n",
      " 8 | 2018-09-20  00083cda041544b2fbb0e0d2905ad17da7cf1007526fb4c73235dccbbc132280   501323011  0.0533729                 1\n",
      " 9 | 2018-09-20  00083cda041544b2fbb0e0d2905ad17da7cf1007526fb4c73235dccbbc132280   598859003  0.0457458                 2\n",
      "[10 rows x 5 columns]\n",
      "\n"
     ]
    }
   ],
   "source": [
    "train_data = data[:-1*test_data_size,:]\n",
    "test_data = data[-1*test_data_size:,:]\n",
    "\n",
    "print(train_data.head())\n"
   ]
  },
  {
   "cell_type": "code",
   "execution_count": 7,
   "id": "8328f17b-7093-4143-9521-be418337bc35",
   "metadata": {
    "tags": []
   },
   "outputs": [
    {
     "name": "stdout",
     "output_type": "stream",
     "text": [
      "   | article_id  count\n",
      "   |      int32  int64\n",
      "-- + ----------  -----\n",
      " 0 |  108775015  10841\n",
      " 1 |  108775044   7247\n",
      " 2 |  108775051    215\n",
      " 3 |  110065001   1044\n",
      " 4 |  110065002    539\n",
      " 5 |  110065011   1090\n",
      " 6 |  111565001   4882\n",
      " 7 |  111565003     46\n",
      " 8 |  111586001  14142\n",
      " 9 |  111593001  13847\n",
      "[10 rows x 2 columns]\n",
      "\n"
     ]
    }
   ],
   "source": [
    "frequency = train_data[:, dt.count(), dt.by(dt.f.article_id)]\n",
    "\n",
    "# Printing the head of the frequency frame\n",
    "print(frequency.head())"
   ]
  },
  {
   "cell_type": "code",
   "execution_count": 8,
   "id": "38f66fa7-f0af-4e5f-abcb-2715bd484c59",
   "metadata": {
    "tags": []
   },
   "outputs": [
    {
     "name": "stdout",
     "output_type": "stream",
     "text": [
      "   | article_id  count\n",
      "   |      int32  int64\n",
      "-- + ----------  -----\n",
      " 0 |  706016001  49958\n",
      " 1 |  706016002  34802\n",
      " 2 |  372860001  31482\n",
      " 3 |  610776002  30003\n",
      " 4 |  759871002  26309\n",
      " 5 |  464297007  24989\n",
      " 6 |  372860002  24222\n",
      " 7 |  610776001  22335\n",
      " 8 |  399223001  22204\n",
      " 9 |  720125001  21005\n",
      "[10 rows x 2 columns]\n",
      "\n"
     ]
    }
   ],
   "source": [
    "frequency = frequency[:, :, dt.sort(-dt.f.count)]\n",
    "\n",
    "# Select the top 'n' rows\n",
    "n = 10  # Replace with the number of top elements you want\n",
    "top_n_frequency = frequency[:n, :]\n",
    "\n",
    "# Print the result\n",
    "print(top_n_frequency)"
   ]
  },
  {
   "cell_type": "code",
   "execution_count": 9,
   "metadata": {},
   "outputs": [
    {
     "name": "stdout",
     "output_type": "stream",
     "text": [
      "[706016001, 706016002, 372860001, 610776002, 759871002, 464297007, 372860002, 610776001, 399223001, 720125001]\n"
     ]
    }
   ],
   "source": [
    "most_pop_articles = top_n_frequency[:,0].to_list()[0]\n",
    "print(most_pop_articles)"
   ]
  },
  {
   "cell_type": "code",
   "execution_count": 10,
   "id": "78a428d3-e51d-42a1-a88c-a4d6597aba13",
   "metadata": {
    "tags": []
   },
   "outputs": [],
   "source": [
    "df = train_data[:, :-2]"
   ]
  },
  {
   "cell_type": "code",
   "execution_count": 11,
   "id": "13a82147-d361-4e07-bf61-82b8f668ca59",
   "metadata": {
    "tags": []
   },
   "outputs": [
    {
     "name": "stdout",
     "output_type": "stream",
     "text": [
      "   | t_dat       customer_id                                                       article_id\n",
      "   | date32      str32                                                                  int32\n",
      "-- + ----------  ----------------------------------------------------------------  ----------\n",
      " 0 | 2018-09-20  000058a12d5b43e67d225668fa1f8d618c13dc232df0cad8ffe7ad4a1091e318   663713001\n",
      " 1 | 2018-09-20  000058a12d5b43e67d225668fa1f8d618c13dc232df0cad8ffe7ad4a1091e318   541518023\n",
      " 2 | 2018-09-20  00007d2de826758b65a93dd24ce629ed66842531df6699338c5570910a014cc2   505221004\n",
      " 3 | 2018-09-20  00007d2de826758b65a93dd24ce629ed66842531df6699338c5570910a014cc2   685687003\n",
      " 4 | 2018-09-20  00007d2de826758b65a93dd24ce629ed66842531df6699338c5570910a014cc2   685687004\n",
      " 5 | 2018-09-20  00007d2de826758b65a93dd24ce629ed66842531df6699338c5570910a014cc2   685687001\n",
      " 6 | 2018-09-20  00007d2de826758b65a93dd24ce629ed66842531df6699338c5570910a014cc2   505221001\n",
      " 7 | 2018-09-20  00083cda041544b2fbb0e0d2905ad17da7cf1007526fb4c73235dccbbc132280   688873012\n",
      " 8 | 2018-09-20  00083cda041544b2fbb0e0d2905ad17da7cf1007526fb4c73235dccbbc132280   501323011\n",
      " 9 | 2018-09-20  00083cda041544b2fbb0e0d2905ad17da7cf1007526fb4c73235dccbbc132280   598859003\n",
      "[10 rows x 3 columns]\n",
      "\n"
     ]
    }
   ],
   "source": [
    "print(df.head())"
   ]
  },
  {
   "cell_type": "code",
   "execution_count": 44,
   "id": "7cd279cf-ed3a-4b10-9acb-73133f2e0430",
   "metadata": {
    "tags": []
   },
   "outputs": [
    {
     "ename": "",
     "evalue": "",
     "output_type": "error",
     "traceback": [
      "\u001b[1;31mThe Kernel crashed while executing code in the the current cell or a previous cell. Please review the code in the cell(s) to identify a possible cause of the failure. Click <a href='https://aka.ms/vscodeJupyterKernelCrash'>here</a> for more info. View Jupyter <a href='command:jupyter.viewOutput'>log</a> for further details."
     ]
    }
   ],
   "source": [
    "# Assuming 'df' is your datatable Frame with 't_dat' as datetime.date objects and 'customer_id'\n",
    "\n",
    "# Convert 't_dat' to a combined year-week identifier\n",
    "df['year_week'] = dt.Frame([f\"{date.year}-{date.isocalendar()[1]:02d}\" for date in df['t_dat'].to_list()[0]])\n",
    "\n",
    "# Group by customer_id and year_week, then count the purchases\n",
    "weekly_purchases = df[:, dt.count(), dt.by('customer_id', 'year_week')]\n",
    "\n",
    "# Calculate the average number of purchases per week for each customer\n",
    "average_purchases = weekly_purchases[:, dt.mean(dt.f.count), dt.by('customer_id')]\n",
    "\n",
    "# Print the head of the result\n",
    "print(average_purchases.head())\n"
   ]
  },
  {
   "cell_type": "code",
   "execution_count": null,
   "id": "c8ea9237-fd43-4238-ae7f-f7d0f6c1a36d",
   "metadata": {
    "tags": []
   },
   "outputs": [],
   "source": [
    "average_purchases.to_csv(\"../data/avg_customer_purchases.csv\")"
   ]
  },
  {
   "cell_type": "code",
   "execution_count": 12,
   "id": "ce86924e-3efb-4a09-bdad-23612bffd9c1",
   "metadata": {
    "tags": []
   },
   "outputs": [
    {
     "name": "stdout",
     "output_type": "stream",
     "text": [
      "Average weekly purchases frame size: (1329917, 2)\n"
     ]
    }
   ],
   "source": [
    "avg_purchase_data = dt.fread(\"../data/avg_customer_purchases.csv\")\n",
    "\n",
    "print(\"Average weekly purchases frame size:\", avg_purchase_data.shape)\n"
   ]
  },
  {
   "cell_type": "code",
   "execution_count": 13,
   "id": "5573af20-9a41-438e-b46a-4f8df090cc40",
   "metadata": {
    "tags": []
   },
   "outputs": [
    {
     "name": "stdout",
     "output_type": "stream",
     "text": [
      "   | customer_id                                                         count\n",
      "   | str32                                                             float64\n",
      "-- + ----------------------------------------------------------------  -------\n",
      " 0 | 00000dbacae5abe5e23885899a1fa44253a17956c6d1c3d25f88aa139fdfc657  1.88889\n",
      "[1 row x 2 columns]\n",
      "\n"
     ]
    }
   ],
   "source": [
    "print(avg_purchase_data[0,:])"
   ]
  },
  {
   "cell_type": "code",
   "execution_count": 29,
   "metadata": {},
   "outputs": [],
   "source": [
    "\n",
    "\n",
    "def pop_recommender(customer_id):\n",
    "    \n",
    "\n",
    "    # Select rows where the first column has the value 'x'\n",
    "    num_purchases = round(avg_purchase_data[f[0] == customer_id, 1][0,0])\n",
    "\n",
    "\n",
    "    return set(most_pop_articles[:num_purchases])\n"
   ]
  },
  {
   "cell_type": "code",
   "execution_count": 30,
   "metadata": {},
   "outputs": [
    {
     "name": "stdout",
     "output_type": "stream",
     "text": [
      "{706016001, 706016002}\n"
     ]
    }
   ],
   "source": [
    "print(pop_recommender(\"00000dbacae5abe5e23885899a1fa44253a17956c6d1c3d25f88aa139fdfc657\"))"
   ]
  },
  {
   "cell_type": "code",
   "execution_count": 31,
   "metadata": {},
   "outputs": [
    {
     "name": "stdout",
     "output_type": "stream",
     "text": [
      "   | t_dat       customer_id                                                       article_id       price  sales_channel_id\n",
      "   | date32      str32                                                                  int32     float64             int32\n",
      "-- + ----------  ----------------------------------------------------------------  ----------  ----------  ----------------\n",
      " 0 | 2020-09-16  000fb6e772c5d0023892065e659963da90b1866035558ec16fca51b0dcfb7e59   786022008  0.0484407                  2\n",
      " 1 | 2020-09-16  000fb6e772c5d0023892065e659963da90b1866035558ec16fca51b0dcfb7e59   913272003  0.0322881                  2\n",
      " 2 | 2020-09-16  000fb6e772c5d0023892065e659963da90b1866035558ec16fca51b0dcfb7e59   889669006  0.0565085                  2\n",
      " 3 | 2020-09-16  0010e8eb18f131e724d6997909af0808adbba057529edb1523944f7d4e02b4ce   237347060  0.0338814                  1\n",
      " 4 | 2020-09-16  0010e8eb18f131e724d6997909af0808adbba057529edb1523944f7d4e02b4ce   562245001  0.0135424                  1\n",
      " 5 | 2020-09-16  0010e8eb18f131e724d6997909af0808adbba057529edb1523944f7d4e02b4ce   610776105  0.00845763                 1\n",
      " 6 | 2020-09-16  001143bec624de9df82bd687babb382e00b0285e2371cc9120de5d42c48f1076   759814034  0.0148983                  1\n",
      " 7 | 2020-09-16  001143bec624de9df82bd687babb382e00b0285e2371cc9120de5d42c48f1076   759814034  0.0148983                  1\n",
      " 8 | 2020-09-16  001143bec624de9df82bd687babb382e00b0285e2371cc9120de5d42c48f1076   837443001  0.0135593                  1\n",
      " 9 | 2020-09-16  001143bec624de9df82bd687babb382e00b0285e2371cc9120de5d42c48f1076   890631002  0.00269492                 1\n",
      "[10 rows x 5 columns]\n",
      "\n"
     ]
    }
   ],
   "source": [
    "print(test_data.head())"
   ]
  },
  {
   "cell_type": "code",
   "execution_count": 24,
   "metadata": {},
   "outputs": [
    {
     "name": "stdout",
     "output_type": "stream",
     "text": [
      "   | customer_id                                                     \n",
      "   | str32                                                           \n",
      "-- + ----------------------------------------------------------------\n",
      " 0 | 00039306476aaf41a07fed942884f16b30abfa83a2a8bea972019098d6406793\n",
      " 1 | 0003e867a930d0d6842f923d6ba7c9b77aba33fe2a0fbf4672f30b3e622fec55\n",
      " 2 | 000493dd9fc463df1acc2081450c9e75ef8e87d5dd17ed6396773839f6bf71a9\n",
      " 3 | 000525e3fe01600d717da8423643a8303390a055c578ed8a97256600baf54565\n",
      " 4 | 00077dbd5c4a4991e092e63893ccf29294a9d5c46e85010e95f2fc10bf9437a4\n",
      " 5 | 0008daf19b2a7cd6fa00836c717aa0f143c83d88c35e0269a28cbff53664205a\n",
      " 6 | 000fb6e772c5d0023892065e659963da90b1866035558ec16fca51b0dcfb7e59\n",
      " 7 | 0010e8eb18f131e724d6997909af0808adbba057529edb1523944f7d4e02b4ce\n",
      " 8 | 001143bec624de9df82bd687babb382e00b0285e2371cc9120de5d42c48f1076\n",
      " 9 | 001324f693acaea0dea35333ba00ccddd0162d8bc81e76865034fca36cbb89c8\n",
      "[10 rows x 1 column]\n",
      "\n"
     ]
    }
   ],
   "source": [
    "from datatable import f\n",
    "\n",
    "# customer_id_column = test_data[:, 'customer_id']\n",
    "\n",
    "# Get unique values of 'customer_id'\n",
    "unique_customer_ids = dt.unique(test_data['customer_id'])\n",
    "\n",
    "# Convert to a Python list\n",
    "# unique_customer_ids_list = unique_customer_ids.to_list()[0]\n",
    "\n",
    "print(unique_customer_ids.head())"
   ]
  },
  {
   "cell_type": "code",
   "execution_count": 28,
   "metadata": {},
   "outputs": [],
   "source": [
    "test_purchases_made = {}\n",
    "unique_customer_ids_list = unique_customer_ids.to_list()[0]\n",
    "\n",
    "for customer_id in unique_customer_ids_list:\n",
    "    customer_purchases = test_data[f.customer_id == customer_id, 'article_id'].to_list()[0]\n",
    "    # print(customer_purchases)\n",
    "    # break\n",
    "    test_purchases_made[customer_id] = set(customer_purchases)\n",
    "    # print(test_purchases_made)\n",
    "    # break"
   ]
  },
  {
   "cell_type": "code",
   "execution_count": 33,
   "metadata": {},
   "outputs": [
    {
     "name": "stdout",
     "output_type": "stream",
     "text": [
      "POP Accuracy = 0.0017288506679628633\n"
     ]
    }
   ],
   "source": [
    "correct_pred = 0\n",
    "\n",
    "for customer_id in unique_customer_ids_list:\n",
    "    try:\n",
    "        pred_purchases = pop_recommender(customer_id)\n",
    "    except:\n",
    "        continue\n",
    "\n",
    "    target_purchases = test_purchases_made[customer_id]\n",
    "    common_values = pred_purchases.intersection(target_purchases)\n",
    "    total_values = pred_purchases.union(target_purchases)\n",
    "    # Count the number of common elements\n",
    "    num_common_values = len(common_values)\n",
    "    num_total_values = len(total_values)\n",
    "\n",
    "    weight = (1.0 * num_common_values) / num_total_values\n",
    "    correct_pred += weight\n",
    "\n",
    "accuracy = correct_pred / len(unique_customer_ids_list)\n",
    "print(\"POP Accuracy =\", accuracy)\n",
    "\n",
    "\n"
   ]
  },
  {
   "cell_type": "code",
   "execution_count": null,
   "metadata": {},
   "outputs": [],
   "source": []
  }
 ],
 "metadata": {
  "kernelspec": {
   "display_name": "Python 3 (ipykernel)",
   "language": "python",
   "name": "python3"
  },
  "language_info": {
   "codemirror_mode": {
    "name": "ipython",
    "version": 3
   },
   "file_extension": ".py",
   "mimetype": "text/x-python",
   "name": "python",
   "nbconvert_exporter": "python",
   "pygments_lexer": "ipython3",
   "version": "3.11.4"
  }
 },
 "nbformat": 4,
 "nbformat_minor": 5
}
